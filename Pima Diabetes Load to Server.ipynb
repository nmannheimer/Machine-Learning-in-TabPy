{
 "cells": [
  {
   "cell_type": "code",
   "execution_count": 17,
   "metadata": {
    "collapsed": true
   },
   "outputs": [],
   "source": [
    "# import needed libraries\n",
    "from sklearn.externals import joblib\n",
    "import tabpy_client"
   ]
  },
  {
   "cell_type": "code",
   "execution_count": 18,
   "metadata": {
    "collapsed": false,
    "scrolled": true
   },
   "outputs": [],
   "source": [
    "loadmodel = joblib.load('C:/Users/nmannheimer/Desktop/DataScience/TabPy Training/Completed Models/JupyterPimaForest.pkl')"
   ]
  },
  {
   "cell_type": "code",
   "execution_count": 19,
   "metadata": {
    "collapsed": false
   },
   "outputs": [],
   "source": [
    "# Define a funtion that will take the loaded model and run predictions on new data\n",
    "# The server will take the loaded model and pickle it to the server so we do not have to call the location again\n",
    "def diabetesclassifier(_arg1, _arg2, _arg3, _arg4, _arg5, _arg6, _arg7, _arg8):\n",
    "    from pandas import DataFrame\n",
    "    \n",
    "    # Load data from tableau (brought in as lists) into a dictionary\n",
    "    d = {'Number of times pregnant': _arg1, 'glucose tolerance test': _arg2, 'Diastolic blood pressure mm Hg': _arg3, 'Triceps skin fold thickness': _arg4,\n",
    "         '2-Hour serum insulin mu U/ml': _arg5, 'BMI': _arg6, 'Diabetes pedigree function': _arg7, 'Age': _arg8}\n",
    "    # Convert the dictionary to a Pandas Dataframe\n",
    "    df = DataFrame(data=d)\n",
    "\n",
    "    # Use the loaded model to develop predictions for the new data from Tableau\n",
    "    predictions = loadmodel.predict(df[['Number of times pregnant',\n",
    "                      'glucose tolerance test',\n",
    "                      'Diastolic blood pressure mm Hg',\n",
    "                      'Triceps skin fold thickness',\n",
    "                      '2-Hour serum insulin mu U/ml',\n",
    "                      'BMI',\n",
    "                      'Diabetes pedigree function',\n",
    "                      'Age']])\n",
    "    return [prediction for prediction in predictions]"
   ]
  },
  {
   "cell_type": "code",
   "execution_count": 20,
   "metadata": {
    "collapsed": false,
    "scrolled": true
   },
   "outputs": [],
   "source": [
    "# Locate TabPy Server client (you may need to change the address of the server depending on its location)\n",
    "client = tabpy_client.Client('http://localhost:9004')"
   ]
  },
  {
   "cell_type": "code",
   "execution_count": 21,
   "metadata": {
    "collapsed": false
   },
   "outputs": [],
   "source": [
    "# Identify and deploy the loan classifier function defined above\n",
    "client.deploy('Diabetes Classifier', diabetesclassifier, 'Return a 1 if a patient is predicted to get diabetes within 5 years or a 0 if they are not', override = True)"
   ]
  },
  {
   "cell_type": "code",
   "execution_count": 22,
   "metadata": {
    "collapsed": true
   },
   "outputs": [],
   "source": [
    "# Define some dummy data for a quick diagnostic test\n",
    "_arg1 = [1,2,3,4,6,7,8]\n",
    "_arg2 = [1,2,3,4,6,7,8]\n",
    "_arg3 = [1,2,3,4,6,7,8]\n",
    "_arg4 = [1,2,3,4,6,7,8]\n",
    "_arg5 = [1,2,3,4,6,7,8]\n",
    "_arg6 = [1,2,3,4,6,7,8]\n",
    "_arg7 = [1,2,3,4,6,7,8]\n",
    "_arg8 = [1,2,3,4,6,7,8]"
   ]
  },
  {
   "cell_type": "code",
   "execution_count": 23,
   "metadata": {
    "collapsed": false
   },
   "outputs": [
    {
     "data": {
      "text/plain": [
       "{u'model': u'diabetesclassifier',\n",
       " u'response': [0, 0, 0, 0, 0, 0, 0],\n",
       " u'uuid': u'f1bec729-859c-4160-8a3c-fc1089531506',\n",
       " u'version': 1}"
      ]
     },
     "execution_count": 23,
     "metadata": {},
     "output_type": "execute_result"
    }
   ],
   "source": [
    "# Test the deployed function to determine it is properly deployed\n",
    "client.query('Diabetes Classifier', _arg1, _arg2, _arg3, _arg4, _arg5, _arg6, _arg7, _arg8)"
   ]
  },
  {
   "cell_type": "code",
   "execution_count": null,
   "metadata": {
    "collapsed": true
   },
   "outputs": [],
   "source": []
  }
 ],
 "metadata": {
  "kernelspec": {
   "display_name": "Python 2",
   "language": "python",
   "name": "python2"
  },
  "language_info": {
   "codemirror_mode": {
    "name": "ipython",
    "version": 2
   },
   "file_extension": ".py",
   "mimetype": "text/x-python",
   "name": "python",
   "nbconvert_exporter": "python",
   "pygments_lexer": "ipython2",
   "version": "2.7.11"
  }
 },
 "nbformat": 4,
 "nbformat_minor": 0
}
